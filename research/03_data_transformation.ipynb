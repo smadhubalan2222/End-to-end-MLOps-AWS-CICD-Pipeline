{
 "cells": [
  {
   "cell_type": "code",
   "execution_count": 1,
   "metadata": {},
   "outputs": [],
   "source": [
    "import os"
   ]
  },
  {
   "cell_type": "code",
   "execution_count": 2,
   "metadata": {},
   "outputs": [
    {
     "data": {
      "text/plain": [
       "'c:\\\\Madhu\\\\2025_NLPDataScientist\\\\UKJobs\\\\Hiscox\\\\insuranceClaim\\\\End-to-end-MLOps-AWS-CICD-Pipeline\\\\research'"
      ]
     },
     "execution_count": 2,
     "metadata": {},
     "output_type": "execute_result"
    }
   ],
   "source": [
    "%pwd"
   ]
  },
  {
   "cell_type": "code",
   "execution_count": 3,
   "metadata": {},
   "outputs": [],
   "source": [
    "os.chdir(\"../\")"
   ]
  },
  {
   "cell_type": "code",
   "execution_count": 4,
   "metadata": {},
   "outputs": [
    {
     "data": {
      "text/plain": [
       "'c:\\\\Madhu\\\\2025_NLPDataScientist\\\\UKJobs\\\\Hiscox\\\\insuranceClaim\\\\End-to-end-MLOps-AWS-CICD-Pipeline'"
      ]
     },
     "execution_count": 4,
     "metadata": {},
     "output_type": "execute_result"
    }
   ],
   "source": [
    "%pwd"
   ]
  },
  {
   "cell_type": "code",
   "execution_count": 5,
   "metadata": {},
   "outputs": [],
   "source": [
    "from dataclasses import dataclass\n",
    "from pathlib import Path\n",
    "\n",
    "\n",
    "@dataclass(frozen=True)\n",
    "class DataTransformationConfig:\n",
    "    root_dir: Path\n",
    "    data_path: Path"
   ]
  },
  {
   "cell_type": "code",
   "execution_count": 6,
   "metadata": {},
   "outputs": [],
   "source": [
    "from mlopsProject.constants import *\n",
    "from mlopsProject.utils.common import read_yaml, create_directories"
   ]
  },
  {
   "cell_type": "code",
   "execution_count": 7,
   "metadata": {},
   "outputs": [],
   "source": [
    "class ConfigurationManager:\n",
    "    def __init__(\n",
    "        self,\n",
    "        config_filepath = CONFIG_FILE_PATH,\n",
    "        params_filepath = PARAMS_FILE_PATH,\n",
    "        schema_filepath = SCHEMA_FILE_PATH):\n",
    "\n",
    "        self.config = read_yaml(config_filepath)\n",
    "        self.params = read_yaml(params_filepath)\n",
    "        self.schema = read_yaml(schema_filepath)\n",
    "\n",
    "        create_directories([self.config.artifacts_root])\n",
    "\n",
    "    \n",
    "    def get_data_transformation_config(self) -> DataTransformationConfig:\n",
    "        config = self.config.data_transformation\n",
    "\n",
    "        create_directories([config.root_dir])\n",
    "\n",
    "        data_transformation_config = DataTransformationConfig(\n",
    "            root_dir=config.root_dir,\n",
    "            data_path=config.data_path,\n",
    "        )\n",
    "\n",
    "        return data_transformation_config\n"
   ]
  },
  {
   "cell_type": "code",
   "execution_count": 18,
   "metadata": {},
   "outputs": [],
   "source": [
    "import os\n",
    "from mlopsProject import logger\n",
    "from sklearn.model_selection import train_test_split\n",
    "from imblearn.combine import SMOTETomek, SMOTEENN\n",
    "import pandas as pd"
   ]
  },
  {
   "cell_type": "code",
   "execution_count": 35,
   "metadata": {},
   "outputs": [],
   "source": [
    "class DataTransformation:\n",
    "    def __init__(self, config: DataTransformationConfig):\n",
    "        self.config = config\n",
    "\n",
    "    def train_test_spliting(self):\n",
    "        data = pd.read_csv(self.config.data_path)\n",
    "        data.drop(columns=[\"product_var_3\", \"marital_status\", \"occupation\", \"location\",\"family_history_3\",\"employment_type\"], inplace=True, axis=1)\n",
    "        X = data.drop('claim_status', axis=1)\n",
    "        y = data['claim_status']\n",
    "        smt = SMOTEENN(random_state=42,sampling_strategy='minority')\n",
    "        X_res, y_res = smt.fit_resample(X, y)\n",
    "        X_train, X_test, y_train, y_test = train_test_split(X_res,y_res,test_size=0.2,random_state=42)\n",
    "\n",
    "        X_train.to_csv(os.path.join(self.config.root_dir, \"X_train.csv\"),index = False)\n",
    "        X_test.to_csv(os.path.join(self.config.root_dir, \"X_test.csv\"),index = False)\n",
    "\n",
    "        y_train.to_csv(os.path.join(self.config.root_dir, \"y_train.csv\"),index = False)\n",
    "        y_test.to_csv(os.path.join(self.config.root_dir, \"y_test.csv\"),index = False)\n",
    "\n",
    "        logger.info(\"Splited data into training and test sets\")\n",
    "        logger.info(X_train.shape)\n",
    "        logger.info(X_test.shape)\n",
    "        logger.info(y_train.shape)\n",
    "        logger.info(y_test.shape)\n",
    "\n",
    "        print(X_train.shape)\n",
    "        print(X_test.shape)\n",
    "        print(y_train.shape)\n",
    "        print(y_test.shape)  "
   ]
  },
  {
   "cell_type": "code",
   "execution_count": 36,
   "metadata": {},
   "outputs": [
    {
     "name": "stdout",
     "output_type": "stream",
     "text": [
      "[2024-07-17 04:02:58,341: INFO: common: yaml file: config\\config.yaml loaded successfully]\n",
      "[2024-07-17 04:02:58,343: INFO: common: yaml file: params.yaml loaded successfully]\n",
      "[2024-07-17 04:02:58,350: INFO: common: yaml file: schema.yaml loaded successfully]\n",
      "[2024-07-17 04:02:58,352: INFO: common: created directory at: artifacts]\n",
      "[2024-07-17 04:02:58,354: INFO: common: created directory at: artifacts/data_transformation]\n",
      "[2024-07-17 04:02:59,605: INFO: 2025303918: Splited data into training and test sets]\n",
      "[2024-07-17 04:02:59,606: INFO: 2025303918: (10550, 34)]\n",
      "[2024-07-17 04:02:59,607: INFO: 2025303918: (2638, 34)]\n",
      "[2024-07-17 04:02:59,608: INFO: 2025303918: (10550,)]\n",
      "[2024-07-17 04:02:59,609: INFO: 2025303918: (2638,)]\n",
      "(10550, 34)\n",
      "(2638, 34)\n",
      "(10550,)\n",
      "(2638,)\n"
     ]
    }
   ],
   "source": [
    "try:\n",
    "    config = ConfigurationManager()\n",
    "    data_transformation_config = config.get_data_transformation_config()\n",
    "    data_transformation = DataTransformation(config=data_transformation_config)\n",
    "    data_transformation.train_test_spliting()\n",
    "except Exception as e:\n",
    "    raise e"
   ]
  }
 ],
 "metadata": {
  "kernelspec": {
   "display_name": "Python 3.8.10 64-bit",
   "language": "python",
   "name": "python3"
  },
  "language_info": {
   "codemirror_mode": {
    "name": "ipython",
    "version": 3
   },
   "file_extension": ".py",
   "mimetype": "text/x-python",
   "name": "python",
   "nbconvert_exporter": "python",
   "pygments_lexer": "ipython3",
   "version": "3.8.19"
  },
  "orig_nbformat": 4,
  "vscode": {
   "interpreter": {
    "hash": "e7370f93d1d0cde622a1f8e1c04877d8463912d04d973331ad4851f04de6915a"
   }
  }
 },
 "nbformat": 4,
 "nbformat_minor": 2
}
