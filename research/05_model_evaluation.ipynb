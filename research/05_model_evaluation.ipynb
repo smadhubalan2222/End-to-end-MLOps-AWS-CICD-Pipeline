{
 "cells": [
  {
   "cell_type": "code",
   "execution_count": 1,
   "metadata": {},
   "outputs": [],
   "source": [
    "import os"
   ]
  },
  {
   "cell_type": "code",
   "execution_count": 2,
   "metadata": {},
   "outputs": [
    {
     "data": {
      "text/plain": [
       "'c:\\\\Madhu\\\\2025_NLPDataScientist\\\\UKJobs\\\\Hiscox\\\\insuranceClaim\\\\End-to-end-MLOps-AWS-CICD-Pipeline\\\\research'"
      ]
     },
     "execution_count": 2,
     "metadata": {},
     "output_type": "execute_result"
    }
   ],
   "source": [
    "%pwd"
   ]
  },
  {
   "cell_type": "code",
   "execution_count": 3,
   "metadata": {},
   "outputs": [],
   "source": [
    "os.chdir(\"../\")"
   ]
  },
  {
   "cell_type": "code",
   "execution_count": 4,
   "metadata": {},
   "outputs": [
    {
     "data": {
      "text/plain": [
       "'c:\\\\Madhu\\\\2025_NLPDataScientist\\\\UKJobs\\\\Hiscox\\\\insuranceClaim\\\\End-to-end-MLOps-AWS-CICD-Pipeline'"
      ]
     },
     "execution_count": 4,
     "metadata": {},
     "output_type": "execute_result"
    }
   ],
   "source": [
    "%pwd"
   ]
  },
  {
   "cell_type": "code",
   "execution_count": 5,
   "metadata": {},
   "outputs": [],
   "source": [
    "from dataclasses import dataclass\n",
    "from pathlib import Path\n",
    "\n",
    "\n",
    "@dataclass(frozen=True)\n",
    "class ModelEvaluationConfig:\n",
    "    root_dir: Path\n",
    "    X_test_data_path: Path\n",
    "    y_test_data_path: Path\n",
    "    model_path: Path\n",
    "    all_params: dict\n",
    "    metric_file_name: Path\n",
    "    target_column: str"
   ]
  },
  {
   "cell_type": "code",
   "execution_count": 6,
   "metadata": {},
   "outputs": [],
   "source": [
    "from mlopsProject.constants import *\n",
    "from mlopsProject.utils.common import read_yaml, create_directories, save_json"
   ]
  },
  {
   "cell_type": "code",
   "execution_count": 12,
   "metadata": {},
   "outputs": [],
   "source": [
    "class ConfigurationManager:\n",
    "    def __init__(\n",
    "        self,\n",
    "        config_filepath = CONFIG_FILE_PATH,\n",
    "        params_filepath = PARAMS_FILE_PATH,\n",
    "        schema_filepath = SCHEMA_FILE_PATH):\n",
    "\n",
    "        self.config = read_yaml(config_filepath)\n",
    "        self.params = read_yaml(params_filepath)\n",
    "        self.schema = read_yaml(schema_filepath)\n",
    "\n",
    "        create_directories([self.config.artifacts_root])\n",
    "\n",
    "\n",
    "    \n",
    "    def get_model_evaluation_config(self) -> ModelEvaluationConfig:\n",
    "        config = self.config.model_evaluation        \n",
    "        params = self.params.XGBClassifier\n",
    "        schema =  self.schema.TARGET_COLUMN\n",
    "\n",
    "        create_directories([config.root_dir])        \n",
    "\n",
    "        model_evaluation_config = ModelEvaluationConfig(\n",
    "            root_dir=config.root_dir,\n",
    "            X_test_data_path = config.X_test_data_path,\n",
    "            y_test_data_path = config.y_test_data_path,\n",
    "            model_path = config.model_path,\n",
    "            all_params=params,\n",
    "            metric_file_name = config.metric_file_name,\n",
    "            target_column = schema.name           \n",
    "        )\n",
    "\n",
    "        return model_evaluation_config"
   ]
  },
  {
   "cell_type": "code",
   "execution_count": 13,
   "metadata": {},
   "outputs": [],
   "source": [
    "import os\n",
    "import pandas as pd\n",
    "from sklearn.metrics import accuracy_score, classification_report,ConfusionMatrixDisplay, \\\n",
    "                            precision_score, recall_score, f1_score, roc_auc_score,roc_curve \n",
    "from sklearn.metrics import roc_auc_score,roc_curve\n",
    "from urllib.parse import urlparse\n",
    "import numpy as np\n",
    "import joblib"
   ]
  },
  {
   "cell_type": "code",
   "execution_count": 32,
   "metadata": {},
   "outputs": [],
   "source": [
    "class ModelEvaluation:\n",
    "    def __init__(self, config: ModelEvaluationConfig):\n",
    "        self.config = config\n",
    "    \n",
    "    def evaluate_clf(true, predicted):\n",
    "        acc = accuracy_score(true, predicted) # Calculate Accuracy\n",
    "        f1 = f1_score(true, predicted) # Calculate F1-score\n",
    "        precision = precision_score(true, predicted) # Calculate Precision\n",
    "        recall = recall_score(true, predicted)  # Calculate Recall\n",
    "        roc_auc = roc_auc_score(true, predicted) #Calculate Roc\n",
    "        return acc, f1 , precision, recall, roc_auc\n",
    "    \n",
    "\n",
    "    def save_results(self):\n",
    "        models_list = []\n",
    "        accuracy_list = []\n",
    "        auc= []\n",
    "\n",
    "        model = joblib.load(self.config.model_path)\n",
    "\n",
    "        test_x = pd.read_csv(self.config.X_test_data_path)\n",
    "        test_y = pd.read_csv(self.config.y_test_data_path)\n",
    "        \n",
    "        predicted_qualities = model.predict(test_x)\n",
    "\n",
    "        accuracy_sc = accuracy_score(test_y,predicted_qualities)\n",
    "        cr = classification_report(test_y,predicted_qualities)\n",
    "\n",
    "         # Saving metrics as local\n",
    "        # scores = {\"accuracy\": accuracy_sc, \"cr\": cr}\n",
    "        scores = {\"accuracy\": accuracy_sc}\n",
    "        save_json(path=Path(self.config.metric_file_name), data=scores)"
   ]
  },
  {
   "cell_type": "code",
   "execution_count": 33,
   "metadata": {},
   "outputs": [
    {
     "name": "stdout",
     "output_type": "stream",
     "text": [
      "[2024-07-17 07:06:39,071: INFO: common: yaml file: config\\config.yaml loaded successfully]\n",
      "[2024-07-17 07:06:39,073: INFO: common: yaml file: params.yaml loaded successfully]\n",
      "[2024-07-17 07:06:39,081: INFO: common: yaml file: schema.yaml loaded successfully]\n",
      "[2024-07-17 07:06:39,083: INFO: common: created directory at: artifacts]\n",
      "[2024-07-17 07:06:39,085: INFO: common: created directory at: artifacts/model_evaluation]\n",
      "[2024-07-17 07:06:39,256: INFO: common: json file saved at: artifacts\\model_evaluation\\metrics.json]\n"
     ]
    }
   ],
   "source": [
    "try:\n",
    "    config = ConfigurationManager()\n",
    "    model_evaluation_config = config.get_model_evaluation_config()\n",
    "    model_evaluation_config = ModelEvaluation(config=model_evaluation_config)\n",
    "    model_evaluation_config.save_results()\n",
    "except Exception as e:\n",
    "    raise e"
   ]
  }
 ],
 "metadata": {
  "kernelspec": {
   "display_name": "Python 3.8.10 64-bit",
   "language": "python",
   "name": "python3"
  },
  "language_info": {
   "codemirror_mode": {
    "name": "ipython",
    "version": 3
   },
   "file_extension": ".py",
   "mimetype": "text/x-python",
   "name": "python",
   "nbconvert_exporter": "python",
   "pygments_lexer": "ipython3",
   "version": "3.8.19"
  },
  "orig_nbformat": 4,
  "vscode": {
   "interpreter": {
    "hash": "e7370f93d1d0cde622a1f8e1c04877d8463912d04d973331ad4851f04de6915a"
   }
  }
 },
 "nbformat": 4,
 "nbformat_minor": 2
}
